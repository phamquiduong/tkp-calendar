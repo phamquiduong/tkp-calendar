{
 "cells": [
  {
   "cell_type": "markdown",
   "metadata": {},
   "source": [
    "### Install python-crontab"
   ]
  },
  {
   "cell_type": "code",
   "execution_count": null,
   "metadata": {},
   "outputs": [],
   "source": [
    "pip install schedule requests"
   ]
  },
  {
   "cell_type": "code",
   "execution_count": null,
   "metadata": {},
   "outputs": [],
   "source": [
    "import schedule\n",
    "import requests\n",
    "import time\n",
    "\n",
    "# Firebase Realtime Database URL\n",
    "DB_URL = ''\n",
    "\n",
    "from datetime import datetime\n",
    "\n",
    "def job():\n",
    "    now = datetime.now().strftime('%H%M')\n",
    "    request_url = f'{DB_URL}/events/{now}.json'\n",
    "    print(request_url)\n",
    "    response = requests.get(request_url).json()\n",
    "    print('Yes' if response is not None else 'No')\n",
    "\n",
    "schedule.every().minute.do(job)\n",
    "\n",
    "while True:\n",
    "    schedule.run_pending()\n",
    "    time.sleep(1)"
   ]
  }
 ],
 "metadata": {
  "kernelspec": {
   "display_name": "Python 3",
   "language": "python",
   "name": "python3"
  },
  "language_info": {
   "codemirror_mode": {
    "name": "ipython",
    "version": 3
   },
   "file_extension": ".py",
   "mimetype": "text/x-python",
   "name": "python",
   "nbconvert_exporter": "python",
   "pygments_lexer": "ipython3",
   "version": "3.12.3"
  }
 },
 "nbformat": 4,
 "nbformat_minor": 2
}
